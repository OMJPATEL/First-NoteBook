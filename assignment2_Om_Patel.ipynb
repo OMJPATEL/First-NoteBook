{
 "cells": [
  {
   "cell_type": "markdown",
   "id": "f1a3fc13",
   "metadata": {},
   "source": [
    "## Task 1 - Notebook Setup\n",
    "\n",
    "# Module 2 Assignment - Data Analysis with Pandas\n",
    "\n",
    "**Name:** Om Patel\n",
    "**Student:** 0404791\n",
    "**Date:** 2025-09-17\n",
    "\n",
    "**Overview:** In this notebook i import the dataset given to us, wil explore it, clean the data then transform it in format way and save outputs. Each section will start with short explantion along the code cell prints labeled with readble results."
   ]
  },
  {
   "cell_type": "code",
   "execution_count": null,
   "id": "9ac22a40",
   "metadata": {},
   "outputs": [
    {
     "name": "stdout",
     "output_type": "stream",
     "text": [
      "Welcome to my First Notebook\n"
     ]
    }
   ],
   "source": [
    "# Staring with imports\n",
    "import pandas as pd\n",
    "import numpy as np\n",
    "\n",
    "\n",
    "\n",
    "print(\"Welcome to my First Notebook\")"
   ]
  },
  {
   "cell_type": "markdown",
   "id": "bf204c61",
   "metadata": {},
   "source": [
    "---\n",
    "## Task 2 - Data Importing\n",
    "**Goal:** Load the CSV\n",
    "\n",
    "1. Inspect first five rows \n",
    "2. Shape \n",
    "3. Column names \n",
    "4. dtypes \n",
    "5. Duplicate count \n",
    "6. Save a copy of changes into Execl "
   ]
  },
  {
   "cell_type": "code",
   "execution_count": null,
   "id": "77e9feea",
   "metadata": {},
   "outputs": [
    {
     "name": "stdout",
     "output_type": "stream",
     "text": [
      "\n",
      "=== First Five Rows ===\n",
      "   order_id customer_name  order_date  total_amount    status     category  \\\n",
      "0      1000     Grace Lee  2022-12-27        290.94  shipped     Furniture   \n",
      "1      1001  David Wilson  2022-10-13        369.45   PENDING    furniture   \n",
      "2      1002  Henry Martin  2022-09-30        649.46   PENDING    furniture   \n",
      "3      1003    Emma Davis  2023-01-04        575.07   Pending       garden   \n",
      "4      1004     Grace Lee  2022-03-03        362.54   Shipped  electronics   \n",
      "\n",
      "  region priority  \n",
      "0  North   Medium  \n",
      "1  North      Low  \n",
      "2   West      Low  \n",
      "3   East      Low  \n",
      "4  South     High  \n",
      "\n",
      "=== Shape (Rows, Columns) ===\n",
      "(502, 8)\n",
      "\n",
      "=== Column Names ===\n",
      "Index(['order_id', 'customer_name', 'order_date', 'total_amount', 'status',\n",
      "       'category', 'region', 'priority'],\n",
      "      dtype='object')\n",
      "\n",
      "=== Data Types ===\n",
      "order_id           int64\n",
      "customer_name     object\n",
      "order_date        object\n",
      "total_amount     float64\n",
      "status            object\n",
      "category          object\n",
      "region            object\n",
      "priority          object\n",
      "dtype: object\n",
      "\n",
      "=== Duplicate Count ===\n",
      "2\n",
      "\n",
      "Excel copy saved to:Dataset_for_Module_2_Assignment_Copy.xlsx\n"
     ]
    }
   ],
   "source": [
    "import pandas as pd\n",
    "\n",
    "# CSV file path\n",
    "csv_path = \"Dataset_for_Module_2_Assignment.csv\"\n",
    "\n",
    "# Load the CSV file into a DataFrame\n",
    "df = pd.read_csv(csv_path)\n",
    "\n",
    "# 1 Display the first five rows \n",
    "print(\"\\n=== First Five Rows ===\")\n",
    "print(df.head())\n",
    "\n",
    "# 2 Display the shape \n",
    "print (\"\\n=== Shape (Rows, Columns) ===\")\n",
    "print(df.shape)\n",
    "\n",
    "# 3 Display the column names\n",
    "print(\"\\n=== Column Names ===\")\n",
    "print(df.columns)\n",
    "\n",
    "# 4 Display the data types of each column\n",
    "print(\"\\n=== Data Types ===\")\n",
    "print(df.dtypes)\n",
    "\n",
    "# 5 Display Duplicate count\n",
    "dup_count = df.duplicated().sum()\n",
    "print(\"\\n=== Duplicate Count ===\")\n",
    "print(dup_count)\n",
    "\n",
    "# 6 Save the copy as Excel\n",
    "excel_copy_path = \"Dataset_for_Module_2_Assignment_Copy.xlsx\"\n",
    "df.to_excel(excel_copy_path, index=False)\n",
    "print(f\"\\nExcel copy saved to:{excel_copy_path}\")"
   ]
  }
 ],
 "metadata": {
  "kernelspec": {
   "display_name": "comp_2231_env",
   "language": "python",
   "name": "python3"
  },
  "language_info": {
   "codemirror_mode": {
    "name": "ipython",
    "version": 3
   },
   "file_extension": ".py",
   "mimetype": "text/x-python",
   "name": "python",
   "nbconvert_exporter": "python",
   "pygments_lexer": "ipython3",
   "version": "3.13.5"
  }
 },
 "nbformat": 4,
 "nbformat_minor": 5
}
