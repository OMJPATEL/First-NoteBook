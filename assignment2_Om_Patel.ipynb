{
 "cells": [
  {
   "cell_type": "markdown",
   "id": "f1a3fc13",
   "metadata": {},
   "source": [
    "## Task 1 - Notebook Setup\n",
    "\n",
    "# Module 2 Assignment - Data Analysis with Pandas\n",
    "\n",
    "**Name:** Om Patel\n",
    "**Student:** 0404791\n",
    "**Date:** 2025-09-17\n",
    "\n",
    "**Overview:** In this notebook i import the dataset given to us, wil explore it, clean the data then transform it in format way and save outputs. Each section will start with short explantion along the code cell prints labeled with readble results."
   ]
  },
  {
   "cell_type": "code",
   "execution_count": null,
   "id": "9ac22a40",
   "metadata": {},
   "outputs": [
    {
     "name": "stdout",
     "output_type": "stream",
     "text": [
      "Welcome to my First Notebook\n"
     ]
    }
   ],
   "source": [
    "# Staring with imports\n",
    "import pandas as pd\n",
    "import numpy as np\n",
    "\n",
    "\n",
    "\n",
    "print(\"Welcome to my First Notebook\")"
   ]
  },
  {
   "cell_type": "markdown",
   "id": "bf204c61",
   "metadata": {},
   "source": [
    "---\n",
    "## Task 2 - Data Importing\n",
    "**Goal:** Load the CSV\n",
    "\n",
    "1. Inspect first five rows \n",
    "2. Shape \n",
    "3. Column names \n",
    "4. dtypes \n",
    "5. Duplicate count \n",
    "6. Save a copy of changes into Execl "
   ]
  },
  {
   "cell_type": "code",
   "execution_count": 8,
   "id": "77e9feea",
   "metadata": {},
   "outputs": [
    {
     "name": "stdout",
     "output_type": "stream",
     "text": [
      "\n",
      "=== First Five Rows ===\n",
      "   order_id customer_name  order_date  total_amount    status     category region priority\n",
      "0      1000     Grace Lee  2022-12-27        290.94  shipped     Furniture  North   Medium\n",
      "1      1001  David Wilson  2022-10-13        369.45   PENDING    furniture  North      Low\n",
      "2      1002  Henry Martin  2022-09-30        649.46   PENDING    furniture   West      Low\n",
      "3      1003    Emma Davis  2023-01-04        575.07   Pending       garden   East      Low\n",
      "4      1004     Grace Lee  2022-03-03        362.54   Shipped  electronics  South     High\n",
      "\n",
      "=== Shape (Rows, Columns) ===\n",
      "(502, 8)\n"
     ]
    }
   ],
   "source": [
    "# CSV file path\n",
    "csv_path = \"Dataset_for_Module_2_Assignment.csv\"\n",
    "\n",
    "# Load the CSV file into a DataFrame\n",
    "df = pd.read_csv(csv_path)\n",
    "\n",
    "# 1 Display the first five rows \n",
    "print(\"\\n=== First Five Rows ===\")\n",
    "print(df.head())\n",
    "\n",
    "# 2 Display the shape \n",
    "print (\"\\n=== Shape (Rows, Columns) ===\")\n",
    "print(df.shape)"
   ]
  }
 ],
 "metadata": {
  "kernelspec": {
   "display_name": "comp_2231_env",
   "language": "python",
   "name": "python3"
  },
  "language_info": {
   "codemirror_mode": {
    "name": "ipython",
    "version": 3
   },
   "file_extension": ".py",
   "mimetype": "text/x-python",
   "name": "python",
   "nbconvert_exporter": "python",
   "pygments_lexer": "ipython3",
   "version": "3.13.5"
  }
 },
 "nbformat": 4,
 "nbformat_minor": 5
}
